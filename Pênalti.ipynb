import random

golsDaMaquina = 0
golsDoJogador = 0
diferença = golsDaMaquina - golsDoJogador
cantos = ["SE", "IE" ,"M", "SD", "ID"]
resposta = 1

print("\nBem Vindo ao campeonato de pênaltis do Cesupa!\n")
print("Você tem cinco possíveis cantos para chutar: Canto Superior Esquerdo(SE), Canto Inferior Esquerdo(IE), Meio(M), Canto Superior Direito(SD) e Canto Inferior Direito(ID)\n")

while(resposta == 1):
  golsDaMaquina = 0
  golsDoJogador = 0
  resposta = 2
  time_inicial = random.choice(["jogador", "maquina"])
  print("O",time_inicial, "inicia a cobrança!\n")

  if time_inicial == "maquina":
    for i in range(5):
      defesaDaMaquina = random.choice(cantos)
      chuteDaMaquina = random.choice(cantos)
      if defesaDaMaquina == chuteDaMaquina:
        print("O goleiro defendeu a bola ao pular pro", defesaDaMaquina) 
      else:
        print("\nGOLLLLL! O atacante chutou no", chuteDaMaquina,"mas o goleiro foi para o",defesaDaMaquina) 
        golsDaMaquina = golsDaMaquina + 1
        print("\nGols da Máquina:",golsDaMaquina)

      diferença = golsDaMaquina - golsDoJogador
      if abs(diferença) > 2:
        print("\nO jogo acabou, a máquina ganhou\n")
        print("Placar final:",golsDaMaquina, "x", golsDoJogador)
        break
        

      defesaDaMaquina = random.choice(cantos)
      chuteDoJogador = input("\nEscolha um canto para chutar: (SE, IE, M, SD, ID)")
      if defesaDaMaquina == chuteDoJogador:
        print("\nO goleiro defendeu a bola ao pular pro", defesaDaMaquina)    
      else: 
        print("\nGOLLLLL! O atacante chutou no", chuteDoJogador,"mas o goleiro foi para o",defesaDaMaquina) 
        golsDoJogador = golsDoJogador + 1
        print("\nGols do Jogador:",golsDoJogador)

      diferença = golsDaMaquina - golsDoJogador
      if abs(diferença) > 2:
        print("\nO jogo acabou, o jogador ganhou")
        print("\nPlacar final:",golsDaMaquina, "x", golsDoJogador)
        break


  else:
    for i in range(5):
      defesaDaMaquina = random.choice(cantos)
      chuteDoJogador = input("Escolha um canto para chutar: (SE, IE, M, SD, ID)")
      if defesaDaMaquina == chuteDoJogador:
        print("\nO goleiro defendeu a bola ao pular pro", defesaDaMaquina)  
      else: 
        print("\nGOLLLLL! O atacante chutou no", chuteDoJogador,"mas o goleiro foi para o",defesaDaMaquina)
        golsDoJogador = golsDoJogador + 1
        print("\nGols do Jogador:",golsDoJogador)

      diferença = golsDaMaquina - golsDoJogador
      if abs(diferença) > 2:
        print("\nO jogo acabou, o jogador é o vencedor")
        print("\nPlacar final:",golsDoJogador, "x", golsDaMaquina)
        break
        

      defesaDaMaquina = random.choice(cantos)
      chuteDaMaquina = random.choice(cantos)
      if defesaDaMaquina == chuteDaMaquina:
        print("\nO goleiro defendeu a bola ao pular pro", defesaDaMaquina) 
      else:
        print("\nGOLLLLL! O atacante chutou no", chuteDaMaquina,"mas o goleiro foi para o",defesaDaMaquina)  
        golsDaMaquina = golsDaMaquina + 1
        print("\nGols da Máquina: ",golsDaMaquina)

      diferença = golsDaMaquina - golsDoJogador
      if abs(diferença) > 2:
        print("\nO jogo acabou, a máquina é a vencedora")
        print("\nPlacar final:",golsDoJogador, "x", golsDaMaquina)
        break

  if golsDaMaquina > golsDoJogador:
    print("\n O jogo acabou, com um placar de",golsDaMaquina,"x",golsDoJogador,",o vencedor é a Máquina")
  elif golsDoJogador > golsDaMaquina:
    print("\n O jogo acabou, com um placar de",golsDaMaquina,"x",golsDoJogador,",o vencedor é o jogador")
  elif golsDoJogador == golsDaMaquina:
    while abs(diferença) == 0: 
        if time_inicial == "maquina":
          defesaDaMaquina = random.choice(cantos)
          chuteDaMaquina = random.choice(cantos)
          if defesaDaMaquina == chuteDaMaquina:
            print("\nO goleiro defendeu a bola ao pular pro", defesaDaMaquina) 
          else:
            print("\nGOLLLLL! O atacante chutou no", chuteDaMaquina,"mas o goleiro foi para o",defesaDaMaquina) 
            golsDaMaquina = golsDaMaquina + 1
            print("\nGols da Máquina: ",golsDaMaquina)

          defesaDaMaquina = random.choice(cantos)
          chuteDoJogador = input("\nEscolha um canto para chutar: (SE, IE, M, SD, ID)")
          if defesaDaMaquina == chuteDoJogador:
            print("\nO goleiro defendeu a bola ao pular pro", defesaDaMaquina)    
          else: 
            print("\nGOLLLLL! O atacante chutou no", chuteDoJogador,"mas o goleiro foi para o",defesaDaMaquina) 
            golsDoJogador = golsDoJogador + 1
            print("\nGols do Jogador:",golsDoJogador)
          diferença = golsDaMaquina - golsDoJogador
          if diferença == 1:
            print("\nO jogo acabou, a Jogador é o vencedor")
            print("\nPlacar final:",golsDaMaquina, "x", golsDoJogador)
          elif diferença == -1:
            print("\nO jogo acabou, o Máquina é a vencedora")
            print("\nPlacar final:",golsDaMaquina, "x", golsDoJogador)

        else:
            defesaDaMaquina = random.choice(cantos)
            print(defesaDaMaquina)
            chuteDoJogador = input("Escolha um canto para chutar: (SE, IE, M, SD, ID)")
            if defesaDaMaquina == chuteDoJogador:
              print("\nO goleiro defendeu a bola ao pular pro", defesaDaMaquina)  
            else: 
              print("\nGOLLLLL! O atacante chutou no", chuteDoJogador,"mas o goleiro foi para o",defesaDaMaquina)
              golsDoJogador = golsDoJogador + 1
              print("\nGols do Jogador:",golsDoJogador)

            defesaDaMaquina = random.choice(cantos)
            chuteDaMaquina = random.choice(cantos)
            if defesaDaMaquina == chuteDaMaquina:
              print("\nO goleiro defendeu a bola ao pular pro", defesaDaMaquina) 
            else:
              print("\nGOLLLLL! O atacante chutou no", chuteDaMaquina,"mas o goleiro foi para o",defesaDaMaquina)  
              golsDaMaquina = golsDaMaquina + 1
              print("\nGols da Máquina: ",golsDaMaquina)  
            diferença = golsDaMaquina - golsDoJogador
            if diferença == 1:
              print("\nO jogo acabou, o Máquina é a vencedora")
              print("\nPlacar final:",golsDoJogador, "x", golsDaMaquina)
            elif diferença == -1:
              print("\nO jogo acabou, a Jogador é o vencedor")
              print("\nPlacar final:",golsDoJogador, "x", golsDaMaquina)
    
  resposta = int(input("\nSe deseja jogar digite 1, caso contrário, digite qualquer tecla"))
